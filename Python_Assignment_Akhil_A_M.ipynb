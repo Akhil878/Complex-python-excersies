{
 "cells": [
  {
   "cell_type": "markdown",
   "metadata": {
    "id": "l0ZzOlyxB-kf"
   },
   "source": [
    "<h1>Python: without numpy or sklearn </h1>"
   ]
  },
  {
   "cell_type": "markdown",
   "metadata": {
    "id": "C0xO8JV9B-ki"
   },
   "source": [
    "<h3> Q1: Given two matrices please print the product of those two matrices </h3>\n",
    "<pre>\n",
    "\n",
    "Ex 1: A   = [[1 3 4]\n",
    "             [2 5 7]\n",
    "             [5 9 6]]\n",
    "      B   = [[1 0 0]\n",
    "             [0 1 0]\n",
    "             [0 0 1]]\n",
    "      A*B = [[1 3 4]\n",
    "             [2 5 7]\n",
    "             [5 9 6]]\n",
    "\n",
    "     \n",
    "Ex 2: A   = [[1 2]\n",
    "             [3 4]]\n",
    "      B   = [[1 2 3 4 5]\n",
    "             [5 6 7 8 9]]\n",
    "      A*B = [[11 14 17 20 23]\n",
    "             [23 30 37 44 51]]\n",
    "             \n",
    "Ex 3: A   = [[1 2]\n",
    "             [3 4]]\n",
    "      B   = [[1 4]\n",
    "             [5 6]\n",
    "             [7 8]\n",
    "             [9 6]]\n",
    "      A*B =Not possible\n",
    "</pre>"
   ]
  },
  {
   "cell_type": "code",
   "execution_count": 6,
   "metadata": {
    "id": "rnssAfpgB-kj"
   },
   "outputs": [
    {
     "data": {
      "text/plain": [
       "[[1, 3, 4], [2, 5, 7], [5, 9, 6]]"
      ]
     },
     "execution_count": 6,
     "metadata": {},
     "output_type": "execute_result"
    }
   ],
   "source": [
    "# write your python code here\n",
    "# you can take the above example as sample input for your program to test\n",
    "# it should work for any general input try not to hard code for only given input examples\n",
    "# you can take matrix input from user or you can directly define the matrix and give input to the function\n",
    "# reference for creating input - https://stackoverflow.com/questions/12293208/how-to-create-a-list-of-lists\n",
    "\n",
    "# you can free to change all these codes/structure\n",
    "# here A and B are list of lists\n",
    "def matrix_mul(A, B):\n",
    "    if len(A)!=len(B[0]): #checking if the matrix multiplication is possible\n",
    "        return print(\"A*B =Not possible\")\n",
    "    \n",
    "    C = [[0 for i in range(len(A[0]))] for j in range(len(B))] # initializing output zero matrix\n",
    "    for i in range(len(A)): #iterating rows of A\n",
    "        for j in range(len(B[0])): # iterating rows of B\n",
    "            for k in range(len(B)): #iterating columns of B\n",
    "                C[i][j] += A[i][k]*B[k][j] #multipying the matrices\n",
    "    return C\n",
    "\n",
    "#Checking the results\n",
    "A   = [[1,3,4],\n",
    "       [2,5,7],\n",
    "       [5,9,6]]\n",
    "\n",
    "B   = [[1,0,0],\n",
    "       [0,1,0],\n",
    "       [0,0,1]]\n",
    "    \n",
    "matrix_mul(A, B)"
   ]
  },
  {
   "cell_type": "markdown",
   "metadata": {
    "id": "at4VwLggB-kn"
   },
   "source": [
    "<h3> Q2: Proportional Sampling - Select a number randomly with probability proportional to its magnitude from the given array of n elements</h3>\n",
    "\n",
    "Consider an experiment, selecting an element from the list A randomly with probability proportional to its magnitude.\n",
    "assume we are doing the same experiment for 100 times with replacement, in each experiment you will print a number that is selected randomly from A.\n",
    "\n",
    "<pre>\n",
    "Ex 1: A = [0 5 27 6 13 28 100 45 10 79]\n",
    "let f(x) denote the number of times x getting selected in 100 experiments.\n",
    "f(100) > f(79) > f(45) > f(28) > f(27) > f(13) > f(10) > f(6) > f(5) > f(0)\n",
    "</pre>"
   ]
  },
  {
   "cell_type": "code",
   "execution_count": 7,
   "metadata": {
    "id": "B6S2dpBhB-kn"
   },
   "outputs": [
    {
     "name": "stdout",
     "output_type": "stream",
     "text": [
      "100\n",
      "100\n",
      "100\n",
      "100\n",
      "100\n",
      "27\n",
      "79\n",
      "45\n",
      "28\n",
      "100\n",
      "79\n",
      "79\n",
      "100\n",
      "100\n",
      "45\n",
      "27\n",
      "100\n",
      "27\n",
      "28\n",
      "100\n",
      "27\n",
      "100\n",
      "45\n",
      "45\n",
      "28\n",
      "45\n",
      "79\n",
      "27\n",
      "45\n",
      "79\n",
      "13\n",
      "100\n",
      "79\n",
      "100\n",
      "79\n",
      "100\n",
      "100\n",
      "28\n",
      "45\n",
      "5\n",
      "79\n",
      "5\n",
      "100\n",
      "79\n",
      "100\n",
      "79\n",
      "10\n",
      "79\n",
      "45\n",
      "45\n",
      "28\n",
      "79\n",
      "100\n",
      "27\n",
      "79\n",
      "28\n",
      "100\n",
      "79\n",
      "45\n",
      "79\n",
      "100\n",
      "100\n",
      "45\n",
      "100\n",
      "6\n",
      "5\n",
      "28\n",
      "28\n",
      "45\n",
      "79\n",
      "100\n",
      "79\n",
      "100\n",
      "100\n",
      "100\n",
      "13\n",
      "79\n",
      "79\n",
      "100\n",
      "79\n",
      "100\n",
      "79\n",
      "45\n",
      "100\n",
      "45\n",
      "100\n",
      "27\n",
      "45\n",
      "79\n",
      "100\n",
      "100\n",
      "6\n",
      "100\n",
      "100\n",
      "100\n",
      "100\n",
      "45\n",
      "28\n",
      "79\n"
     ]
    }
   ],
   "source": [
    "import random\n",
    "\n",
    "A = [0,5,27,6,13,28,100,45,10,79]\n",
    "#Calculating the sum of each items in A\n",
    "def sum_list(A):\n",
    "    total = 0\n",
    "    for x in A:\n",
    "        total += x\n",
    "    return total\n",
    "        \n",
    "total = sum_list(A)\n",
    "\n",
    "#Calculating the probabilities of each items in A\n",
    "prob = [x / total for x in A]\n",
    "\n",
    "def pick_a_number_from_list(A, prob):\n",
    "    \n",
    "    num = random.choices(A, weights = prob)\n",
    "    \n",
    "    return num[0]\n",
    "\n",
    "def sampling_based_on_magnitude(A):\n",
    "    for i in range(1,100):\n",
    "        number = pick_a_number_from_list(A,prob)\n",
    "        print(number)\n",
    "\n",
    "sampling_based_on_magnitude(A)    "
   ]
  },
  {
   "cell_type": "markdown",
   "metadata": {
    "id": "D1xQy2WWB-kq"
   },
   "source": [
    "<h3> Q3: Replace the digits in the string with #</h3>\n",
    "\n",
    "consider a string that will have digits in that, we need to remove all the not digits and replace the digits with #\n",
    "<pre>\n",
    "Ex 1: A = 234                Output: ###\n",
    "Ex 2: A = a2b3c4             Output: ###\n",
    "Ex 3: A = abc                Output:   (empty string)\n",
    "Ex 5: A = #2a$#b%c%561#      Output: ####\n",
    "</pre>"
   ]
  },
  {
   "cell_type": "code",
   "execution_count": 8,
   "metadata": {
    "id": "fxczi2jzB-kr"
   },
   "outputs": [
    {
     "data": {
      "text/plain": [
       "'####'"
      ]
     },
     "execution_count": 8,
     "metadata": {},
     "output_type": "execute_result"
    }
   ],
   "source": [
    "import re\n",
    "\n",
    "def replace_digits(String):\n",
    "    new_string = re.sub(\"\\D\",\"\",String)#replacing non digits as empty spaces\n",
    "    output = re.sub(\"\\d\",\"#\",new_string)# replacing digits with #\n",
    "    return(output) \n",
    "\n",
    "replace_digits('#2a$#b%c%561#')\n"
   ]
  },
  {
   "cell_type": "markdown",
   "metadata": {
    "id": "j7h0Ywg7B-kw"
   },
   "source": [
    "<h3> Q4: Students marks dashboard</h3>\n",
    "\n",
    "consider the marks list of class students given two lists <br>\n",
    "Students = ['student1','student2','student3','student4','student5','student6','student7','student8','student9','student10'] <br>\n",
    "Marks = [45, 78, 12, 14, 48, 43, 45, 98, 22, 80] <br>\n",
    "from the above two lists the Student[0] got Marks[0],  Student[1] got Marks[1] and so on <br><br>\n",
    "your task is to print the name of students\n",
    "<strong>a. Who got top 5 ranks, in the descending order of marks</strong> <br>\n",
    "<strong>b. Who got least 5 ranks, in the increasing order of marks</strong><br>\n",
    "<strong>d. Who got marks between  &gt;25th percentile &lt;75th percentile, in the increasing order of marks</strong>\n",
    "\n",
    "<pre>\n",
    "Ex 1: \n",
    "Students=['student1','student2','student3','student4','student5','student6','student7','student8','student9','student10'] \n",
    "Marks = [45, 78, 12, 14, 48, 43, 47, 98, 22, 80]\n",
    "a. \n",
    "student8  98\n",
    "student10 80\n",
    "student2  78\n",
    "student5  48\n",
    "student7  47\n",
    "b.\n",
    "student3 12\n",
    "student4 14\n",
    "student9 22\n",
    "student6 43\n",
    "student1 45\n",
    "c.\n",
    "student9 22\n",
    "student6 43\n",
    "student1 45\n",
    "student7 47\n",
    "student5 48\n",
    "</pre>"
   ]
  },
  {
   "cell_type": "code",
   "execution_count": 102,
   "metadata": {
    "id": "cxPJgItsB-kx"
   },
   "outputs": [
    {
     "name": "stdout",
     "output_type": "stream",
     "text": [
      "top_5_students\n",
      "-------------------------\n",
      "student8: 98\n",
      "student10: 80\n",
      "student2: 78\n",
      "student5: 48\n",
      "student7: 47\n",
      "least_5_students\n",
      "-------------------------\n",
      "student3: 12\n",
      "student4: 14\n",
      "student9: 22\n",
      "student6: 43\n",
      "student1: 45\n",
      "students_within_25_and_75\n",
      "-------------------------\n",
      "student1: 45\n",
      "student5: 48\n",
      "student6: 43\n",
      "student7: 47\n",
      "student9: 22\n"
     ]
    }
   ],
   "source": [
    "students=['student1','student2','student3','student4','student5','student6','student7','student8','student9','student10']\n",
    "marks = [45, 78, 12, 14, 48, 43, 47, 98, 22, 80]\n",
    "\n",
    "\n",
    "def display_dash_board(students, marks):\n",
    "    dictionary = dict(zip(students,marks))\n",
    "    #https://www.tutorialspoint.com/how-to-convert-list-to-dictionary-in-python \n",
    "    \n",
    "    print('top_5_students')\n",
    "    print(25*\"-\")\n",
    "    #iterating over the dictionary after sorting it in ascending order of values\n",
    "    for key, value in sorted(dictionary.items(), key=lambda item: item[1],reverse=True)[:5]:\n",
    "          print(\"%s: %s\" % (key, value))\n",
    "    #https://www.askpython.com/python/dictionary/sort-a-dictionary-by-value-in-python\n",
    "    \n",
    "    print('least_5_students')\n",
    "    print(25*\"-\")\n",
    "    for key, value in sorted(dictionary.items(), key=lambda item: item[1])[:5]:\n",
    "          print(\"%s: %s\" % (key, value))\n",
    "        \n",
    "    print('students_within_25_and_75')\n",
    "    print(25*\"-\")\n",
    "    #Calculating the 25th and 75th percentile\n",
    "    max_mark = max(marks)\n",
    "    min_mark = min(marks)\n",
    "    diff_mark = max_mark - min_mark\n",
    "    per_25 = diff_mark*0.25\n",
    "    per_75 = diff_mark*0.75\n",
    "    for key, value in filter(lambda item: int(item[1]) >= per_25 and int(item[1]) <= per_75, dictionary.items()):\n",
    "        print(\"%s: %s\" % (key, value))\n",
    "        \n",
    "        \n",
    "display_dash_board(students, marks)"
   ]
  },
  {
   "cell_type": "markdown",
   "metadata": {
    "id": "qha0OhQHB-k1"
   },
   "source": [
    "<h3> Q5: Find the closest points</h3>\n",
    "\n",
    "Consider you have given n data points in the form of list of tuples like S=[(x1,y1),(x2,y2),(x3,y3),(x4,y4),(x5,y5),..,(xn,yn)] and a point P=(p,q) <br> Your task is to find 5 closest points(based on cosine distance) in S from P\n",
    "<br>Cosine distance between two points (x,y) and (p,q) is defind as $cos^{-1}(\\frac{(x\\cdot p+y\\cdot q)}{\\sqrt(x^2+y^2)\\cdot\\sqrt(p^2+q^2)})$\n",
    "<pre>\n",
    "Ex:\n",
    "\n",
    "S= [(1,2),(3,4),(-1,1),(6,-7),(0, 6),(-5,-8),(-1,-1),(6,0),(1,-1)]\n",
    "P= (3,-4)\n",
    "\n",
    "<img src='https://i.imgur.com/vyZZQGu.png' width=400>\n",
    "\n",
    "Output:\n",
    "(6,-7)\n",
    "(1,-1)\n",
    "(6,0)\n",
    "(-5,-8)\n",
    "(-1,-1)\n",
    "</pre>\n",
    " Hint - If you write the formula correctly you'll get the distance between points (6,-7) and (3,-4) = 0.065"
   ]
  },
  {
   "cell_type": "code",
   "execution_count": 65,
   "metadata": {},
   "outputs": [
    {
     "name": "stdout",
     "output_type": "stream",
     "text": [
      "Closest points to P\n",
      "--------------------\n",
      "[(('6', '-7'), 0.0651251633343868), (('1', '-1'), 0.14189705460416438), (('6', '0'), 0.9272952180016123), (('-5', '-8'), 1.202100424136847), (('-1', '-1'), 1.4288992721907328)]\n"
     ]
    }
   ],
   "source": [
    "import math\n",
    "\n",
    "S= [('1','2'),('3','4'),('-1','1'),('6','-7'),('0','6'),('-5','-8'),('-1','-1'),('6','0'),('1','-1')]\n",
    "P= ('3','-4')\n",
    "\n",
    "# here S is list of tuples and P is a tuple ot len=2\n",
    "def closest_points_to_p(S, P):\n",
    "    cosine_distance = []\n",
    "    for i in range (len(S)):\n",
    "        x = int(S[i][0]) #x cordinates of tuple S\n",
    "        y = int(S[i][1]) #y coordinates of tuple S\n",
    "        #Calculating cosine distance using math.acos\n",
    "        cosine_distance.append(math.acos((x*int(P[0])+y*int(P[1]))/math.sqrt((x**2+y**2)*(int(P[0])**2+int(P[1])**2))))\n",
    "        #https://www.kite.com/python/answers/how-to-create-a-dictionary-from-two-lists-in-python\n",
    "        Cosine_distances = zip(S,cosine_distance)\n",
    "        Cosine_distances_dict = dict(Cosine_distances)\n",
    "\n",
    "        #Sorting cosine distances in the dictionary using lambda\n",
    "        sorted_Cosine_distance = dict(sorted(Cosine_distances_dict.items(), key=lambda Cosine_distances_dict: Cosine_distances_dict[1]))\n",
    "\n",
    "    return sorted_Cosine_distance\n",
    "\n",
    "sorted_Cosine_distance = closest_points_to_p(S, P)\n",
    "points = list(sorted_Cosine_distance.items())[:5]\n",
    "print(\"Closest points to P\")\n",
    "print(20*\"-\")\n",
    "print(points)\n"
   ]
  },
  {
   "cell_type": "markdown",
   "metadata": {
    "id": "-g11jeAiB-k5"
   },
   "source": [
    "<h3> Q6: Find Which line separates oranges and apples</h3>\n",
    "consider you have given two set of data points in the form of list of tuples like \n",
    "<pre>\n",
    "Red =[(R11,R12),(R21,R22),(R31,R32),(R41,R42),(R51,R52),..,(Rn1,Rn2)]\n",
    "Blue=[(B11,B12),(B21,B22),(B31,B32),(B41,B42),(B51,B52),..,(Bm1,Bm2)]\n",
    "</pre>\n",
    "and set of line equations(in the string formate, i.e list of strings)\n",
    "<pre>\n",
    "Lines = [a1x+b1y+c1,a2x+b2y+c2,a3x+b3y+c3,a4x+b4y+c4,..,K lines]\n",
    "Note: you need to string parsing here and get the coefficients of x,y and intercept\n",
    "</pre>\n",
    "your task is to for each line that is given print \"YES\"/\"NO\", you will print yes, if all the red points are one side of the line and blue points are other side of the line, otherwise no\n",
    "<pre>\n",
    "Ex:\n",
    "Red= [(1,1),(2,1),(4,2),(2,4), (-1,4)]\n",
    "Blue= [(-2,-1),(-1,-2),(-3,-2),(-3,-1),(1,-3)]\n",
    "Lines=[\"1x+1y+0\",\"1x-1y+0\",\"1x+0y-3\",\"0x+1y-0.5\"]\n",
    "<img src='https://i.imgur.com/mSnQW5K.png' width=400>\n",
    "\n",
    "Output:\n",
    "YES\n",
    "NO\n",
    "NO\n",
    "YES\n",
    "</pre>"
   ]
  },
  {
   "cell_type": "code",
   "execution_count": 75,
   "metadata": {
    "id": "eRxExaTRB-k6"
   },
   "outputs": [
    {
     "name": "stdout",
     "output_type": "stream",
     "text": [
      "Yes\n",
      "NO\n",
      "NO\n",
      "Yes\n"
     ]
    }
   ],
   "source": [
    "import re\n",
    "\n",
    "#https://stackoverflow.com/questions/57188227/to-find-whether-a-given-line-equation-is-able-to-separate-the-two-lists\n",
    "def i_am_the_one(red,blue,line):\n",
    "    \n",
    "    #Checking if the line completely seperates the Red points\n",
    "    for i in Red:\n",
    "        #Replacing coeffient of X with X coefficient of Red point\n",
    "        Line_1 = line.replace('x','*'+str(i[0]))\n",
    "        #Replacing coeffient of Y with Y coefficient of Red point\n",
    "        Line_1 = Line_1.replace('y','*'+str(i[1]))\n",
    "        #Evaluating the equation\n",
    "        flag1 = eval(Line_1)\n",
    "        if flag1 > 0:\n",
    "            pass\n",
    "        else:\n",
    "            return \"NO\"\n",
    "     ##Checking if the line completely seperates the Blue points       \n",
    "    for j in Blue:\n",
    "        #Replacing coeffient of X with X coefficient of Blue point\n",
    "        Line_2 = line.replace('x','*'+str(i[0]))\n",
    "        #Replacing coeffient of Y with Y coefficient of Blue point\n",
    "        Line_2 = Line_2.replace('y','*'+str(i[1]))\n",
    "        #Evaluating the equation\n",
    "        flag2 = eval(Line_2)\n",
    "        if flag2 > 0:\n",
    "            pass\n",
    "        else:\n",
    "            return \"NO\"\n",
    "    return \"Yes\"\n",
    "        \n",
    "Red= [(1,1),(2,1),(4,2),(2,4), (-1,4)]\n",
    "Blue= [(-2,-1),(-1,-2),(-3,-2),(-3,-1),(1,-3)]\n",
    "Lines=[\"1x+1y+0\",\"1x-1y+0\",\"1x+0y-3\",\"0x+1y-0.5\"]\n",
    "\n",
    "for i in Lines:\n",
    "    yes_or_no = i_am_the_one(Red, Blue, i)\n",
    "    print(yes_or_no)"
   ]
  },
  {
   "cell_type": "markdown",
   "metadata": {
    "id": "9OBpURbNB-k9"
   },
   "source": [
    "<h3> Q7: Filling the missing values in the specified formate</h3>\n",
    "You will be given a string with digits and '\\_'(missing value) symbols you have to replace the '\\_' symbols as explained \n",
    "<pre>\n",
    "Ex 1: _, _, _, 24 ==> 24/4, 24/4, 24/4, 24/4 i.e we. have distributed the 24 equally to all 4 places <br>\n",
    "Ex 2: 40, _, _, _, 60 ==> (60+40)/5,(60+40)/5,(60+40)/5,(60+40)/5,(60+40)/5 ==> 20, 20, 20, 20, 20 i.e. the sum of (60+40) is distributed qually to all 5 places<br>\n",
    "Ex 3: 80, _, _, _, _  ==> 80/5,80/5,80/5,80/5,80/5 ==> 16, 16, 16, 16, 16 i.e. the 80 is distributed qually to all 5 missing values that are right to it<br>\n",
    "Ex 4: _, _, 30, _, _, _, 50, _, _  \n",
    "==> we will fill the missing values from left to right \n",
    "    a. first we will distribute the 30 to left two missing values (10, 10, 10, _, _, _, 50, _, _)\n",
    "    b. now distribute the sum (10+50) missing values in between (10, 10, 12, 12, 12, 12, 12, _, _) \n",
    "    c. now we will distribute 12 to right side missing values (10, 10, 12, 12, 12, 12, 4, 4, 4)\n",
    "</pre>\n",
    "for a given string with comma seprate values, which will have both missing values numbers like ex: \"_, _, x, _, _, _\"\n",
    "you need fill the missing values\n",
    "\n",
    "Q: your program reads a string like ex: \"_, _, x, _, _, _\" and returns the filled sequence\n",
    "\n",
    "Ex: \n",
    "<pre>\n",
    "Input1: \"_,_,_,24\"\n",
    "Output1: 6,6,6,6\n",
    "\n",
    "Input2: \"40,_,_,_,60\"\n",
    "Output2: 20,20,20,20,20\n",
    "\n",
    "Input3: \"80,_,_,_,_\"\n",
    "Output3: 16,16,16,16,16\n",
    "\n",
    "Input4: \"_,_,30,_,_,_,50,_,_\"\n",
    "Output4: 10,10,12,12,12,12,4,4,4\n",
    "\n",
    "</pre>\n",
    "\n"
   ]
  },
  {
   "cell_type": "code",
   "execution_count": 76,
   "metadata": {
    "id": "nZmpzHs_B-k-"
   },
   "outputs": [
    {
     "name": "stdout",
     "output_type": "stream",
     "text": [
      "smoothed_values for Input1: _,_,_,24\n",
      "--------------------------------------------------\n",
      "[6, 6, 6, 6]\n",
      "smoothed_values for Input2: 40,_,_,_,60\n",
      "--------------------------------------------------\n",
      "[20, 20, 20, 20, 20]\n",
      "smoothed_values for Input3: 80,_,_,_,_\n",
      "--------------------------------------------------\n",
      "[16, 16, 16, 16, 16]\n",
      "smoothed_values for Input4: _,_,30,_,_,_,50,_,_\n",
      "--------------------------------------------------\n",
      "[10, 10, 12, 12, 12, 12, 4, 4, 4]\n"
     ]
    }
   ],
   "source": [
    "# refered the code from https://www.kaggle.com/amitalexander/pure-python-exercises\n",
    "def curve_smoothing(string):\n",
    "    non_empty_index = []\n",
    "    #Splitting the string by comma\n",
    "    S = string.split(',')\n",
    "    \n",
    "    for idx in range(len(S)):\n",
    "        if S[idx] != \"_\":\n",
    "            non_empty_index.append(idx)\n",
    "            \n",
    "    #adding index length\n",
    "    non_empty_index.append(len(S) - 1)\n",
    "    \n",
    "    #keeping start position as nil and iteraring over the non empty cells to fill the empty cells\n",
    "    \n",
    "    start = 0\n",
    "    for ele in non_empty_index:\n",
    "        #The value to be filled is the sum of values divided by the empty cells in between the non empty cells\n",
    "        \n",
    "        cum_sum = int(S[ele]) if S[ele] != \"_\" else 0\n",
    "        cum_sum += int(S[start]) if S[start] != \"_\" and start != ele else 0\n",
    "        \n",
    "        #dividing cum_sum by number of empty cells to get the value to be replaced\n",
    "        #else the numbers to remain the same if the same\n",
    "        replace_value = cum_sum // (ele - start +1)\n",
    "        \n",
    "        #replacing the empty cells with the replace_value\n",
    "        S = [replace_value if start <= x <= ele else S[x] for x in range(len(S))]\n",
    "        \n",
    "        #updating start point as the next element in string\n",
    "        \n",
    "        start = ele\n",
    "    \n",
    "    return S\n",
    "\n",
    "\n",
    "S1 = \"_,_,_,24\"\n",
    "S2 = \"40,_,_,_,60\"\n",
    "S3 = \"80,_,_,_,_\"\n",
    "S4 =  \"_,_,30,_,_,_,50,_,_\"\n",
    "\n",
    "smoothed_values1= curve_smoothing(S1)\n",
    "smoothed_values2= curve_smoothing(S2)\n",
    "smoothed_values3= curve_smoothing(S3)\n",
    "smoothed_values4= curve_smoothing(S4)\n",
    "\n",
    "print(\"smoothed_values for Input1: _,_,_,24\")\n",
    "print(\"-\"*50)\n",
    "print(smoothed_values1)\n",
    "\n",
    "print(\"smoothed_values for Input2: 40,_,_,_,60\")\n",
    "print(\"-\"*50)\n",
    "print(smoothed_values2)\n",
    "\n",
    "print(\"smoothed_values for Input3: 80,_,_,_,_\")\n",
    "print(\"-\"*50)\n",
    "print(smoothed_values3)\n",
    "\n",
    "print(\"smoothed_values for Input4: _,_,30,_,_,_,50,_,_\")\n",
    "print(\"-\"*50)\n",
    "print(smoothed_values4)"
   ]
  },
  {
   "cell_type": "markdown",
   "metadata": {
    "id": "RBz4pzlfB-lB"
   },
   "source": [
    "<h3> Q8: Filling the missing values in the specified formate</h3>\n",
    "You will be given a list of lists, each sublist will be of length 2 i.e. [[x,y],[p,q],[l,m]..[r,s]]\n",
    "consider its like a martrix of n rows and two columns\n",
    "1. the first column F will contain only 5 uniques values (F1, F2, F3, F4, F5)\n",
    "2. the second column S will contain only 3 uniques values (S1, S2, S3)\n",
    "<pre>\n",
    "your task is to find\n",
    "a. Probability of P(F=F1|S==S1), P(F=F1|S==S2), P(F=F1|S==S3)\n",
    "b. Probability of P(F=F2|S==S1), P(F=F2|S==S2), P(F=F2|S==S3)\n",
    "c. Probability of P(F=F3|S==S1), P(F=F3|S==S2), P(F=F3|S==S3)\n",
    "d. Probability of P(F=F4|S==S1), P(F=F4|S==S2), P(F=F4|S==S3)\n",
    "e. Probability of P(F=F5|S==S1), P(F=F5|S==S2), P(F=F5|S==S3)\n",
    "</pre>\n",
    "Ex:\n",
    "\n",
    "<pre>\n",
    "[[F1,S1],[F2,S2],[F3,S3],[F1,S2],[F2,S3],[F3,S2],[F2,S1],[F4,S1],[F4,S3],[F5,S1]]\n",
    "\n",
    "a. P(F=F1|S==S1)=1/4, P(F=F1|S==S2)=1/3, P(F=F1|S==S3)=0/3\n",
    "b. P(F=F2|S==S1)=1/4, P(F=F2|S==S2)=1/3, P(F=F2|S==S3)=1/3\n",
    "c. P(F=F3|S==S1)=0/4, P(F=F3|S==S2)=1/3, P(F=F3|S==S3)=1/3\n",
    "d. P(F=F4|S==S1)=1/4, P(F=F4|S==S2)=0/3, P(F=F4|S==S3)=1/3\n",
    "e. P(F=F5|S==S1)=1/4, P(F=F5|S==S2)=0/3, P(F=F5|S==S3)=0/3\n",
    "</pre>\n",
    "\n",
    "\n"
   ]
  },
  {
   "cell_type": "code",
   "execution_count": 48,
   "metadata": {
    "id": "e-1giz1MB-lC"
   },
   "outputs": [
    {
     "name": "stdout",
     "output_type": "stream",
     "text": [
      "P(F=F1|S==S1)= 0.25 P(F=F1|S==S2)= 0.3333333333333333 P(F=F1|S==S3)= 0.0\n",
      "P(F=F2|S==S1)= 0.25 P(F=F2|S==S2)= 0.3333333333333333 P(F=F2|S==S3)= 0.3333333333333333\n",
      "P(F=F3|S==S1)= 0.0 P(F=F3|S==S2)= 0.3333333333333333 P(F=F3|S==S3)= 0.3333333333333333\n",
      "P(F=F4|S==S1)= 0.25 P(F=F4|S==S2)= 0.0 P(F=F4|S==S3)= 0.3333333333333333\n",
      "P(F=F5|S==S1)= 0.25 P(F=F5|S==S2)= 0.0 P(F=F5|S==S3)= 0.0\n"
     ]
    }
   ],
   "source": [
    "#Initializing numerator and denominator part to calculate conditional probabilities\n",
    "num = []\n",
    "den = []\n",
    "def compute_conditional_probabilites(A):\n",
    "    for i in range(len(A)):\n",
    "        #Making list combining both elements of given list\n",
    "        k = A[i][0]+A[i][1]\n",
    "        num.append(k)\n",
    "        den.append(A[i][1])\n",
    "        \n",
    "A = [['F1','S1'],['F2','S2'],['F3','S3'],['F1','S2'],['F2','S3'],['F3','S2'],['F2','S1'],['F4','S1'],['F4','S3'],['F5','S1']]\n",
    "compute_conditional_probabilites(A)\n",
    "print(\"P(F=F1|S==S1)=\",num.count('F1S1')/den.count('S1'),\"P(F=F1|S==S2)=\",num.count('F1S2')/den.count('S2'),\"P(F=F1|S==S3)=\",num.count('F1S3')/den.count('S3'))\n",
    "print(\"P(F=F2|S==S1)=\",num.count('F2S1')/den.count('S1'),\"P(F=F2|S==S2)=\",num.count('F2S2')/den.count('S2'),\"P(F=F2|S==S3)=\",num.count('F2S3')/den.count('S3'))\n",
    "print(\"P(F=F3|S==S1)=\",num.count('F3S1')/den.count('S1'),\"P(F=F3|S==S2)=\",num.count('F3S2')/den.count('S2'),\"P(F=F3|S==S3)=\",num.count('F3S3')/den.count('S3'))\n",
    "print(\"P(F=F4|S==S1)=\",num.count('F4S1')/den.count('S1'),\"P(F=F4|S==S2)=\",num.count('F4S2')/den.count('S2'),\"P(F=F4|S==S3)=\",num.count('F4S3')/den.count('S3'))\n",
    "print(\"P(F=F5|S==S1)=\",num.count('F5S1')/den.count('S1'),\"P(F=F5|S==S2)=\",num.count('F5S2')/den.count('S2'),\"P(F=F5|S==S3)=\",num.count('F5S3')/den.count('S3'))"
   ]
  },
  {
   "cell_type": "markdown",
   "metadata": {
    "id": "n4HS87QmB-lF"
   },
   "source": [
    "<h3> Q9: Given two sentances S1, S2</h3>\n",
    "You will be given two sentances S1, S2 your task is to find \n",
    "<pre>\n",
    "a. Number of common words between S1, S2\n",
    "b. Words in S1 but not in S2\n",
    "c. Words in S2 but not in S1\n",
    "</pre>\n",
    "\n",
    "Ex: \n",
    "<pre>\n",
    "S1= \"the first column F will contain only 5 uniques values\"\n",
    "S2= \"the second column S will contain only 3 uniques values\"\n",
    "Output:\n",
    "a. 7\n",
    "b. ['first','F','5']\n",
    "c. ['second','S','3']\n",
    "</pre>"
   ]
  },
  {
   "cell_type": "code",
   "execution_count": 17,
   "metadata": {
    "id": "Ez7hlHK0B-lG"
   },
   "outputs": [
    {
     "name": "stdout",
     "output_type": "stream",
     "text": [
      "Number of common words between S1, S2: 7\n",
      "Words in S1 but not in S2: ['F', 'first', '5']\n",
      "Words in S2 but not in S1: ['S', '3', 'second']\n"
     ]
    }
   ],
   "source": [
    "\n",
    "def string_features(S1, S2):\n",
    "    #Splitting the sentences into words\n",
    "    #https://www.tutorialspoint.com/common-words-in-two-strings-in-python\n",
    "    \n",
    "    S1_list = S1.split(\" \")\n",
    "    S2_list = S2.split(\" \")\n",
    "    \n",
    "    a = len(list(set(S1_list)&set(S2_list)))\n",
    "    b = list(set(S1_list) - set(S2_list))\n",
    "    c = list(set(S2_list) - set(S1_list))\n",
    "    return a,b,c\n",
    "\n",
    "S1= \"the first column F will contain only 5 uniques values\"\n",
    "S2= \"the second column S will contain only 3 uniques values\"\n",
    "a,b,c = string_features(S1, S2)\n",
    "\n",
    "print(\"Number of common words between S1, S2:\",a)\n",
    "print(\"Words in S1 but not in S2:\",b)\n",
    "print(\"Words in S2 but not in S1:\",c)"
   ]
  },
  {
   "cell_type": "markdown",
   "metadata": {
    "id": "XefXVEjCB-lI"
   },
   "source": [
    "<h3> Q10: Given two sentances S1, S2</h3>\n",
    "You will be given a list of lists, each sublist will be of length 2 i.e. [[x,y],[p,q],[l,m]..[r,s]]\n",
    "consider its like a martrix of n rows and two columns\n",
    "\n",
    "a. the first column Y will contain interger values <br>\n",
    "b. the second column $Y_{score}$ will be having float values <br>\n",
    "Your task is to find the value of $f(Y,Y_{score}) = -1*\\frac{1}{n}\\Sigma_{for each Y,Y_{score} pair}(Ylog10(Y_{score})+(1-Y)log10(1-Y_{score}))$ here n is the number of rows in the matrix\n",
    "<pre>\n",
    "Ex:\n",
    "[[1, 0.4], [0, 0.5], [0, 0.9], [0, 0.3], [0, 0.6], [1, 0.1], [1, 0.9], [1, 0.8]]\n",
    "output:\n",
    "0.4243099\n",
    "</pre>\n",
    "$\\frac{-1}{8}\\cdot((1\\cdot log_{10}(0.4)+0\\cdot log_{10}(0.6))+(0\\cdot log_{10}(0.5)+1\\cdot log_{10}(0.5)) + ... + (1\\cdot log_{10}(0.8)+0\\cdot log_{10}(0.2)) )$"
   ]
  },
  {
   "cell_type": "code",
   "execution_count": 21,
   "metadata": {
    "id": "N9zkagyNB-lJ"
   },
   "outputs": [
    {
     "name": "stdout",
     "output_type": "stream",
     "text": [
      "log_loss: 0.42430993457031635\n"
     ]
    }
   ],
   "source": [
    "import math\n",
    "\n",
    "def compute_log_loss(A):\n",
    "    #Number of rows n\n",
    "    n = len(A)\n",
    "    sum = 0 # initializing sum as zero\n",
    "    for i in range (len(A)):\n",
    "        #using the formula for f(Y,Yscore)\n",
    "        sum += ((A[i][0] * math.log(A[i][1],10)) + ((1-A[i][0]) * (math.log(1-A[i][1],10))))\n",
    "    # COmputing log loss\n",
    "    loss = -(sum/n)\n",
    "    return loss\n",
    "\n",
    "A = [[1, 0.4], [0, 0.5], [0, 0.9], [0, 0.3], [0, 0.6], [1, 0.1], [1, 0.9], [1, 0.8]]\n",
    "loss = compute_log_loss(A)\n",
    "\n",
    "print(\"log_loss:\",loss)"
   ]
  },
  {
   "cell_type": "code",
   "execution_count": null,
   "metadata": {},
   "outputs": [],
   "source": []
  }
 ],
 "metadata": {
  "colab": {
   "collapsed_sections": [],
   "name": "Python Assignment.ipynb",
   "provenance": []
  },
  "kernelspec": {
   "display_name": "Python 3",
   "language": "python",
   "name": "python3"
  },
  "language_info": {
   "codemirror_mode": {
    "name": "ipython",
    "version": 3
   },
   "file_extension": ".py",
   "mimetype": "text/x-python",
   "name": "python",
   "nbconvert_exporter": "python",
   "pygments_lexer": "ipython3",
   "version": "3.6.5"
  }
 },
 "nbformat": 4,
 "nbformat_minor": 1
}
